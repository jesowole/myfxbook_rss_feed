{
 "cells": [
  {
   "cell_type": "markdown",
   "id": "866b6aa3-c2c8-4bc4-9ca8-4209d056c19b",
   "metadata": {},
   "source": [
    "The following set of code involves the extraction of news figures from myfxbook rss feed and producing a csv file with the extracted details."
   ]
  },
  {
   "cell_type": "code",
   "execution_count": 2,
   "id": "864f1eea-34fe-4d95-b0e1-ab115b0c696a",
   "metadata": {},
   "outputs": [],
   "source": [
    "#import pertinent libraries\n",
    "import rss_feed_functions as utils\n",
    "import pandas as pd"
   ]
  },
  {
   "cell_type": "code",
   "execution_count": 3,
   "id": "2d4e1afc-59d9-476a-89b9-37c59055840d",
   "metadata": {},
   "outputs": [],
   "source": [
    "import sys\n",
    "import importlib\n",
    "\n",
    "_ = importlib.reload(sys.modules['rss_feed_functions'])"
   ]
  },
  {
   "cell_type": "code",
   "execution_count": null,
   "id": "9e63e43f-e567-4afa-b0e9-05cef7a65ee4",
   "metadata": {},
   "outputs": [],
   "source": []
  },
  {
   "cell_type": "code",
   "execution_count": 4,
   "id": "5ed18fe7-8ed2-4206-a39a-067aee422b74",
   "metadata": {},
   "outputs": [],
   "source": [
    "# RSS Feed URL\n",
    "url = \"https://www.myfxbook.com/rss/forex-economic-calendar-events\""
   ]
  },
  {
   "cell_type": "code",
   "execution_count": null,
   "id": "651b4a25-5316-4307-b3b3-fd480941f511",
   "metadata": {},
   "outputs": [],
   "source": []
  },
  {
   "cell_type": "code",
   "execution_count": 5,
   "id": "b6ef68e6-2ce7-463b-925d-64de5a01add1",
   "metadata": {},
   "outputs": [],
   "source": [
    "df = utils.rssFeed_events_to_dataframe(url)"
   ]
  },
  {
   "cell_type": "code",
   "execution_count": 6,
   "id": "b73130d4-a2f2-4cf0-bae3-f6aef9bbf81b",
   "metadata": {},
   "outputs": [],
   "source": [
    "pd.set_option(\"display.max_rows\", None)\n",
    "pd.set_option(\"display.max_columns\", None)"
   ]
  },
  {
   "cell_type": "code",
   "execution_count": 7,
   "id": "dce1c504-c650-4cbc-91bb-966126d7356f",
   "metadata": {
    "scrolled": true
   },
   "outputs": [
    {
     "data": {
      "text/html": [
       "<div>\n",
       "<style scoped>\n",
       "    .dataframe tbody tr th:only-of-type {\n",
       "        vertical-align: middle;\n",
       "    }\n",
       "\n",
       "    .dataframe tbody tr th {\n",
       "        vertical-align: top;\n",
       "    }\n",
       "\n",
       "    .dataframe thead th {\n",
       "        text-align: right;\n",
       "    }\n",
       "</style>\n",
       "<table border=\"1\" class=\"dataframe\">\n",
       "  <thead>\n",
       "    <tr style=\"text-align: right;\">\n",
       "      <th></th>\n",
       "      <th>Title</th>\n",
       "      <th>Time Left</th>\n",
       "      <th>Impact</th>\n",
       "      <th>Previous</th>\n",
       "      <th>Consensus</th>\n",
       "      <th>Actual</th>\n",
       "    </tr>\n",
       "  </thead>\n",
       "  <tbody>\n",
       "    <tr>\n",
       "      <th>0</th>\n",
       "      <td>Lithuania Day of Re-establishment of the State...</td>\n",
       "      <td>-47955 seconds</td>\n",
       "      <td></td>\n",
       "      <td></td>\n",
       "      <td></td>\n",
       "      <td></td>\n",
       "    </tr>\n",
       "    <tr>\n",
       "      <th>1</th>\n",
       "      <td>Serbia National Day</td>\n",
       "      <td>-47955 seconds</td>\n",
       "      <td></td>\n",
       "      <td></td>\n",
       "      <td></td>\n",
       "      <td></td>\n",
       "    </tr>\n",
       "    <tr>\n",
       "      <th>2</th>\n",
       "      <td>Saudi Arabia Wholesale Prices YoY</td>\n",
       "      <td>-26355 seconds</td>\n",
       "      <td></td>\n",
       "      <td>1.2%</td>\n",
       "      <td>1.3%</td>\n",
       "      <td>0.9%</td>\n",
       "    </tr>\n",
       "    <tr>\n",
       "      <th>3</th>\n",
       "      <td>Saudi Arabia Inflation Rate MoM</td>\n",
       "      <td>-26355 seconds</td>\n",
       "      <td></td>\n",
       "      <td>0.0%</td>\n",
       "      <td>0.2%</td>\n",
       "      <td>0.3%</td>\n",
       "    </tr>\n",
       "    <tr>\n",
       "      <th>4</th>\n",
       "      <td>Saudi Arabia Inflation Rate YoY</td>\n",
       "      <td>-26355 seconds</td>\n",
       "      <td></td>\n",
       "      <td>1.9%</td>\n",
       "      <td>1.9%</td>\n",
       "      <td>2.0%</td>\n",
       "    </tr>\n",
       "    <tr>\n",
       "      <th>5</th>\n",
       "      <td>New Zealand Composite NZ PCI</td>\n",
       "      <td>8h 10min</td>\n",
       "      <td></td>\n",
       "      <td>46.9</td>\n",
       "      <td>47.5</td>\n",
       "      <td></td>\n",
       "    </tr>\n",
       "    <tr>\n",
       "      <th>6</th>\n",
       "      <td>New Zealand Services NZ PSI</td>\n",
       "      <td>8h 10min</td>\n",
       "      <td></td>\n",
       "      <td>47.9</td>\n",
       "      <td>49.0</td>\n",
       "      <td></td>\n",
       "    </tr>\n",
       "    <tr>\n",
       "      <th>7</th>\n",
       "      <td>New Zealand Visitor Arrivals YoY</td>\n",
       "      <td>8h 25min</td>\n",
       "      <td></td>\n",
       "      <td>5.9%</td>\n",
       "      <td>3.0%</td>\n",
       "      <td></td>\n",
       "    </tr>\n",
       "    <tr>\n",
       "      <th>8</th>\n",
       "      <td>Japan GDP Capital Expenditure QoQ</td>\n",
       "      <td>10h 30min</td>\n",
       "      <td></td>\n",
       "      <td>-0.1%</td>\n",
       "      <td>1.0%</td>\n",
       "      <td></td>\n",
       "    </tr>\n",
       "    <tr>\n",
       "      <th>9</th>\n",
       "      <td>Japan GDP External Demand QoQ</td>\n",
       "      <td>10h 30min</td>\n",
       "      <td></td>\n",
       "      <td>-0.2%</td>\n",
       "      <td>0.4%</td>\n",
       "      <td></td>\n",
       "    </tr>\n",
       "    <tr>\n",
       "      <th>10</th>\n",
       "      <td>Japan GDP Private Consumption QoQ</td>\n",
       "      <td>10h 30min</td>\n",
       "      <td></td>\n",
       "      <td>0.7%</td>\n",
       "      <td>-0.3%</td>\n",
       "      <td></td>\n",
       "    </tr>\n",
       "    <tr>\n",
       "      <th>11</th>\n",
       "      <td>Japan GDP Price Index YoY</td>\n",
       "      <td>10h 30min</td>\n",
       "      <td></td>\n",
       "      <td>2.5%</td>\n",
       "      <td>2.8%</td>\n",
       "      <td></td>\n",
       "    </tr>\n",
       "    <tr>\n",
       "      <th>12</th>\n",
       "      <td>Japan GDP Growth Rate QoQ</td>\n",
       "      <td>10h 30min</td>\n",
       "      <td></td>\n",
       "      <td>0.2%</td>\n",
       "      <td>0.3%</td>\n",
       "      <td></td>\n",
       "    </tr>\n",
       "    <tr>\n",
       "      <th>13</th>\n",
       "      <td>Japan GDP Growth Annualized</td>\n",
       "      <td>10h 30min</td>\n",
       "      <td></td>\n",
       "      <td>1.2%</td>\n",
       "      <td>1.0%</td>\n",
       "      <td></td>\n",
       "    </tr>\n",
       "  </tbody>\n",
       "</table>\n",
       "</div>"
      ],
      "text/plain": [
       "                                                Title       Time Left Impact  \\\n",
       "0   Lithuania Day of Re-establishment of the State...  -47955 seconds          \n",
       "1                                 Serbia National Day  -47955 seconds          \n",
       "2                   Saudi Arabia Wholesale Prices YoY  -26355 seconds          \n",
       "3                     Saudi Arabia Inflation Rate MoM  -26355 seconds          \n",
       "4                     Saudi Arabia Inflation Rate YoY  -26355 seconds          \n",
       "5                        New Zealand Composite NZ PCI        8h 10min          \n",
       "6                         New Zealand Services NZ PSI        8h 10min          \n",
       "7                    New Zealand Visitor Arrivals YoY        8h 25min          \n",
       "8                   Japan GDP Capital Expenditure QoQ       10h 30min          \n",
       "9                       Japan GDP External Demand QoQ       10h 30min          \n",
       "10                  Japan GDP Private Consumption QoQ       10h 30min          \n",
       "11                          Japan GDP Price Index YoY       10h 30min          \n",
       "12                          Japan GDP Growth Rate QoQ       10h 30min          \n",
       "13                        Japan GDP Growth Annualized       10h 30min          \n",
       "\n",
       "   Previous Consensus Actual  \n",
       "0                             \n",
       "1                             \n",
       "2      1.2%      1.3%   0.9%  \n",
       "3      0.0%      0.2%   0.3%  \n",
       "4      1.9%      1.9%   2.0%  \n",
       "5      46.9      47.5         \n",
       "6      47.9      49.0         \n",
       "7      5.9%      3.0%         \n",
       "8     -0.1%      1.0%         \n",
       "9     -0.2%      0.4%         \n",
       "10     0.7%     -0.3%         \n",
       "11     2.5%      2.8%         \n",
       "12     0.2%      0.3%         \n",
       "13     1.2%      1.0%         "
      ]
     },
     "execution_count": 7,
     "metadata": {},
     "output_type": "execute_result"
    }
   ],
   "source": [
    "df"
   ]
  },
  {
   "cell_type": "code",
   "execution_count": 8,
   "id": "01a07fca-4bf3-4c40-9f6c-9fd24c05d54b",
   "metadata": {},
   "outputs": [],
   "source": [
    "releaseTime = \"12:00\" \n",
    "releaseBuffer = 3"
   ]
  },
  {
   "cell_type": "code",
   "execution_count": null,
   "id": "b09f3583-1216-418f-aae0-d6996d969ad4",
   "metadata": {},
   "outputs": [],
   "source": []
  },
  {
   "cell_type": "code",
   "execution_count": 12,
   "id": "190137b1-c6ff-4885-bc62-054485d5c66e",
   "metadata": {},
   "outputs": [],
   "source": [
    "newsReleaseList = [(\"Saudi Arabia Wholesale Prices YoY\", False, \"%\")]\n",
    "dataTypeList = [\"Previous\", \"Consensus\"]"
   ]
  },
  {
   "cell_type": "code",
   "execution_count": 13,
   "id": "eb7ca528-f37f-456f-8c22-5c96bf2475c1",
   "metadata": {},
   "outputs": [],
   "source": [
    "eventsDict = utils.extract_listed_events_data_DF(df, newsReleaseList, dataTypeList)"
   ]
  },
  {
   "cell_type": "code",
   "execution_count": 14,
   "id": "f20a59bb-0e0a-491e-b382-f1944991e550",
   "metadata": {},
   "outputs": [
    {
     "data": {
      "text/plain": [
       "{'Saudi Arabia Wholesale Prices YoY': {'Previous': '1.2',\n",
       "  'Consensus': '1.3',\n",
       "  'Invert_statistic': False,\n",
       "  'Strip_symbol': '%'}}"
      ]
     },
     "execution_count": 14,
     "metadata": {},
     "output_type": "execute_result"
    }
   ],
   "source": [
    "eventsDict"
   ]
  },
  {
   "cell_type": "code",
   "execution_count": null,
   "id": "8a67873d-8d8d-4a59-9b54-f47864297851",
   "metadata": {},
   "outputs": [],
   "source": []
  },
  {
   "cell_type": "code",
   "execution_count": 15,
   "id": "5de3212c-f0db-4dc3-b6c3-dacefe5bf6f3",
   "metadata": {},
   "outputs": [],
   "source": [
    "destination_path = \"/home/jesowole/Documents/news_trading/newsData.csv\""
   ]
  },
  {
   "cell_type": "code",
   "execution_count": 16,
   "id": "b1851901-58c1-4616-bde1-904a0ce81517",
   "metadata": {},
   "outputs": [
    {
     "name": "stdout",
     "output_type": "stream",
     "text": [
      "Awake!\n",
      "Data updated and written to file successfully at 2025-02-16 14:20:10\n"
     ]
    }
   ],
   "source": [
    "utils.monitor_listed_events_for_update_and_send(url, eventsDict, releaseTime, releaseBuffer, destination_path)"
   ]
  },
  {
   "cell_type": "code",
   "execution_count": null,
   "id": "88e6cde0-850c-4205-9d99-a396b706a568",
   "metadata": {},
   "outputs": [],
   "source": []
  },
  {
   "cell_type": "code",
   "execution_count": null,
   "id": "ecaecc68-a26e-45cf-9db3-b3b1df1ced35",
   "metadata": {},
   "outputs": [],
   "source": []
  }
 ],
 "metadata": {
  "kernelspec": {
   "display_name": "Python 3 (ipykernel)",
   "language": "python",
   "name": "python3"
  },
  "language_info": {
   "codemirror_mode": {
    "name": "ipython",
    "version": 3
   },
   "file_extension": ".py",
   "mimetype": "text/x-python",
   "name": "python",
   "nbconvert_exporter": "python",
   "pygments_lexer": "ipython3",
   "version": "3.12.3"
  }
 },
 "nbformat": 4,
 "nbformat_minor": 5
}
