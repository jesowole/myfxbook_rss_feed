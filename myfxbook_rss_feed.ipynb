{
 "cells": [
  {
   "cell_type": "markdown",
   "id": "fd45d2e0-7ad0-4459-81ca-4bb91327afb0",
   "metadata": {},
   "source": [
    "The following set of code involves the extraction of news figures from a news source and transmitting it to mql4 to make trades with."
   ]
  },
  {
   "cell_type": "code",
   "execution_count": null,
   "id": "864f1eea-34fe-4d95-b0e1-ab115b0c696a",
   "metadata": {},
   "outputs": [],
   "source": [
    "#import pertinent libraries\n",
    "import rss_feed_functions as utils\n",
    "import pandas as pd"
   ]
  },
  {
   "cell_type": "code",
   "execution_count": null,
   "id": "2d4e1afc-59d9-476a-89b9-37c59055840d",
   "metadata": {},
   "outputs": [],
   "source": [
    "import sys\n",
    "import importlib\n",
    "\n",
    "_ = importlib.reload(sys.modules['rss_feed_functions'])"
   ]
  },
  {
   "cell_type": "code",
   "execution_count": null,
   "id": "9e63e43f-e567-4afa-b0e9-05cef7a65ee4",
   "metadata": {},
   "outputs": [],
   "source": []
  },
  {
   "cell_type": "code",
   "execution_count": null,
   "id": "5ed18fe7-8ed2-4206-a39a-067aee422b74",
   "metadata": {},
   "outputs": [],
   "source": [
    "# RSS Feed URL\n",
    "url = \"https://www.myfxbook.com/rss/forex-economic-calendar-events\""
   ]
  },
  {
   "cell_type": "code",
   "execution_count": null,
   "id": "651b4a25-5316-4307-b3b3-fd480941f511",
   "metadata": {},
   "outputs": [],
   "source": []
  },
  {
   "cell_type": "code",
   "execution_count": null,
   "id": "b6ef68e6-2ce7-463b-925d-64de5a01add1",
   "metadata": {},
   "outputs": [],
   "source": [
    "df = utils.rssFeed_events_to_dataframe(url)"
   ]
  },
  {
   "cell_type": "code",
   "execution_count": null,
   "id": "b73130d4-a2f2-4cf0-bae3-f6aef9bbf81b",
   "metadata": {},
   "outputs": [],
   "source": [
    "pd.set_option(\"display.max_rows\", None)\n",
    "pd.set_option(\"display.max_columns\", None)"
   ]
  },
  {
   "cell_type": "code",
   "execution_count": null,
   "id": "dce1c504-c650-4cbc-91bb-966126d7356f",
   "metadata": {
    "scrolled": true
   },
   "outputs": [],
   "source": [
    "df"
   ]
  },
  {
   "cell_type": "code",
   "execution_count": null,
   "id": "01a07fca-4bf3-4c40-9f6c-9fd24c05d54b",
   "metadata": {},
   "outputs": [],
   "source": [
    "releaseTime = \"14:30\" \n",
    "releaseBuffer = 3"
   ]
  },
  {
   "cell_type": "code",
   "execution_count": null,
   "id": "b09f3583-1216-418f-aae0-d6996d969ad4",
   "metadata": {},
   "outputs": [],
   "source": []
  },
  {
   "cell_type": "code",
   "execution_count": null,
   "id": "190137b1-c6ff-4885-bc62-054485d5c66e",
   "metadata": {},
   "outputs": [],
   "source": [
    "newsReleaseList = [(\"Canada Employment Change\", False, \"K\"), (\"Canada Unemployment Rate\", True, \"%\")]\n",
    "dataTypeList = [\"Previous\", \"Consensus\"]"
   ]
  },
  {
   "cell_type": "code",
   "execution_count": null,
   "id": "eb7ca528-f37f-456f-8c22-5c96bf2475c1",
   "metadata": {},
   "outputs": [],
   "source": [
    "eventsDict = utils.extract_listed_events_data_DF(df, newsReleaseList, dataTypeList)"
   ]
  },
  {
   "cell_type": "code",
   "execution_count": null,
   "id": "f20a59bb-0e0a-491e-b382-f1944991e550",
   "metadata": {},
   "outputs": [],
   "source": [
    "eventsDict"
   ]
  },
  {
   "cell_type": "code",
   "execution_count": null,
   "id": "8a67873d-8d8d-4a59-9b54-f47864297851",
   "metadata": {},
   "outputs": [],
   "source": []
  },
  {
   "cell_type": "code",
   "execution_count": null,
   "id": "f180ca68-4272-4836-9a70-26e75f415184",
   "metadata": {},
   "outputs": [],
   "source": []
  },
  {
   "cell_type": "code",
   "execution_count": null,
   "id": "b1851901-58c1-4616-bde1-904a0ce81517",
   "metadata": {},
   "outputs": [],
   "source": [
    "utils.monitor_listed_events_for_update_and_send(url, eventsDict, releaseTime, releaseBuffer)"
   ]
  },
  {
   "cell_type": "code",
   "execution_count": null,
   "id": "88e6cde0-850c-4205-9d99-a396b706a568",
   "metadata": {},
   "outputs": [],
   "source": []
  },
  {
   "cell_type": "code",
   "execution_count": null,
   "id": "ecaecc68-a26e-45cf-9db3-b3b1df1ced35",
   "metadata": {},
   "outputs": [],
   "source": []
  }
 ],
 "metadata": {
  "kernelspec": {
   "display_name": "Python 3 (ipykernel)",
   "language": "python",
   "name": "python3"
  },
  "language_info": {
   "codemirror_mode": {
    "name": "ipython",
    "version": 3
   },
   "file_extension": ".py",
   "mimetype": "text/x-python",
   "name": "python",
   "nbconvert_exporter": "python",
   "pygments_lexer": "ipython3",
   "version": "3.10.11"
  }
 },
 "nbformat": 4,
 "nbformat_minor": 5
}
